{
 "cells": [
  {
   "cell_type": "markdown",
   "metadata": {
    "pycharm": {
     "name": "#%% md\n"
    }
   },
   "source": [
    "# 作業2: ch10 Phthon實作練習(網路開放資料)\n",
    "\n",
    "## 學號: MB1G0110, 姓名: 陳聖文\n",
    "---\n",
    "\n",
    "## 作業說明\n",
    "本作業使用來自 [政府資料開放平台](https://data.gov.tw/) 的[光觀資訊資料庫](https://data.gov.tw/dataset/7777)  \n",
    "連結網址: https://data.gov.tw/dataset/7777"
   ]
  },
  {
   "cell_type": "markdown",
   "metadata": {
    "pycharm": {
     "name": "#%% md\n"
    }
   },
   "source": [
    "## 實作\n",
    "### 說明\n",
    "先向政府資料開放平臺的光觀資訊資料庫，以 requests 套件進行請求公開資料集，並以 XML 型式作為快取儲存在本機，以防止過多的請求次數，並增加讀取速度。  \n",
    "之後以 BeautifulSoup 搭配 lxml 的 XML Parser 進行資料解析，最後以 Pandas 製作為表格顯示，以便於以後利用資料。\n",
    "\n",
    "### 匯入套件包\n",
    "使用套件包：\n",
    "- os\n",
    "- requests\n",
    "- pandas\n",
    "- BeautifulSoup"
   ]
  },
  {
   "cell_type": "code",
   "execution_count": 1,
   "metadata": {
    "pycharm": {
     "name": "#%%\n"
    }
   },
   "outputs": [],
   "source": [
    "import os\n",
    "import requests\n",
    "import pandas as pd\n",
    "from bs4 import BeautifulSoup"
   ]
  },
  {
   "cell_type": "markdown",
   "metadata": {
    "pycharm": {
     "name": "#%% md\n"
    }
   },
   "source": [
    "### 定義全域變數\n",
    "ROOT_DIR: 根目錄  \n",
    "XML_FILEPATH: 儲存 XML 檔案的位置  \n",
    "OPEN_DATASET_URL: 開放資料庫的 API 連結  \n",
    "DATA_FRAME_COLUMNS: 資料表的表頭。"
   ]
  },
  {
   "cell_type": "code",
   "execution_count": 2,
   "metadata": {
    "pycharm": {
     "name": "#%%\n"
    }
   },
   "outputs": [],
   "source": [
    "ROOT_DIR = os.path.abspath(os.getcwd())\n",
    "XML_FILEPATH = os.path.join(ROOT_DIR, \"scenic_spot_C_f.xml\")\n",
    "OPEN_DATASET_URL = \"https://gis.taiwan.net.tw/XMLReleaseALL_public/scenic_spot_C_f.xml\"\n",
    "DATA_FRAME_COLUMNS = [\"name\", \"description\", \"tel\", \"region\", \"town\", \"address\"]"
   ]
  },
  {
   "cell_type": "markdown",
   "metadata": {
    "pycharm": {
     "name": "#%% md\n"
    }
   },
   "source": [
    "### 撰寫相關 Function\n",
    "為了增加主程式的可讀性，及程式碼的複用性。\n",
    "\n",
    "#### 請求網路資料\n",
    "Input: 網址, 編碼(可選)  \n",
    "Output: 回應結果, 回傳資料"
   ]
  },
  {
   "cell_type": "code",
   "execution_count": 3,
   "metadata": {
    "pycharm": {
     "name": "#%%\n"
    }
   },
   "outputs": [],
   "source": [
    "def request(url, encoding=\"utf-8\"):\n",
    "    res = requests.get(url)\n",
    "    res.encoding = encoding\n",
    "    return res, res.text"
   ]
  },
  {
   "cell_type": "markdown",
   "metadata": {
    "pycharm": {
     "name": "#%% md\n"
    }
   },
   "source": [
    "#### 寫入資料進入檔案\n",
    "Input: 資料, 檔案路徑, 編碼(可選)  "
   ]
  },
  {
   "cell_type": "code",
   "execution_count": 4,
   "metadata": {
    "pycharm": {
     "name": "#%%\n"
    }
   },
   "outputs": [],
   "source": [
    "def save_to_file(data, filepath, encoding=\"utf-8\"):\n",
    "    with open(filepath, \"w\", encoding=encoding) as file:\n",
    "        file.write(data)"
   ]
  },
  {
   "cell_type": "markdown",
   "metadata": {
    "pycharm": {
     "name": "#%% md\n"
    }
   },
   "source": [
    "#### 載入檔案資料\n",
    "Input: 檔案路徑, 編碼(可選)  \n",
    "Output: 資料"
   ]
  },
  {
   "cell_type": "code",
   "execution_count": 5,
   "metadata": {
    "pycharm": {
     "name": "#%%\n"
    }
   },
   "outputs": [],
   "source": [
    "def load_from_file(filepath, encoding=\"utf-8\"):\n",
    "    with open(filepath, \"r\", encoding=encoding) as file:\n",
    "        return file.read()"
   ]
  },
  {
   "cell_type": "markdown",
   "metadata": {
    "pycharm": {
     "name": "#%% md\n"
    }
   },
   "source": [
    "### 請求網路資料\n",
    "先確認本機快取是否存在，如果不存在則向目標位址請求資料，並儲存到本機作為快取。"
   ]
  },
  {
   "cell_type": "code",
   "execution_count": 6,
   "metadata": {
    "pycharm": {
     "name": "#%%\n"
    }
   },
   "outputs": [],
   "source": [
    "if not os.path.exists(XML_FILEPATH):\n",
    "    response, result = request(OPEN_DATASET_URL)\n",
    "    # 確認回傳狀態碼是否為，200\n",
    "    assert response.status_code == requests.codes.ok, f\"Request Failed: {response.status_code}\"\n",
    "    soup = BeautifulSoup(result, \"xml\")\n",
    "    save_to_file(str(soup), \"scenic_spot_C_f.xml\")"
   ]
  },
  {
   "cell_type": "markdown",
   "metadata": {
    "pycharm": {
     "name": "#%% md\n"
    }
   },
   "source": [
    "### 從快取讀取資料\n",
    "從快取讀取資料，並以 BeautifulSoup 進行解析。"
   ]
  },
  {
   "cell_type": "code",
   "execution_count": 7,
   "metadata": {
    "pycharm": {
     "name": "#%%\n"
    }
   },
   "outputs": [],
   "source": [
    "xml_data = load_from_file(XML_FILEPATH)\n",
    "soup = BeautifulSoup(xml_data, \"xml\")"
   ]
  },
  {
   "cell_type": "markdown",
   "metadata": {
    "pycharm": {
     "name": "#%% md\n"
    }
   },
   "source": [
    "### 從 XML 建立 Pandas 資料表\n",
    "從 XML 中提取資料，建立成 Pandas 資料表，方便於後續資料作業。"
   ]
  },
  {
   "cell_type": "code",
   "execution_count": 8,
   "metadata": {
    "pycharm": {
     "name": "#%%\n"
    }
   },
   "outputs": [],
   "source": [
    "# 建立空陣列，來儲存從 XML 中提取出來的資料\n",
    "tourist_row = []\n",
    "\n",
    "# 提取出所有的景點資料\n",
    "tourist_list = soup.find_all(\"Info\")"
   ]
  },
  {
   "cell_type": "code",
   "execution_count": 9,
   "metadata": {
    "pycharm": {
     "name": "#%%\n"
    }
   },
   "outputs": [],
   "source": [
    "# 例用 for 迴圈，掃過每一個景點資料\n",
    "for tourist in tourist_list:\n",
    "    # 提取出景點資料的特定內容 (名稱, 簡介, 電話, 行政區, 城市, 地址)\n",
    "    name = tourist.find(\"Name\").text\n",
    "    description = tourist.find(\"Toldescribe\").text\n",
    "    tel = tourist.find(\"Tel\").text\n",
    "    region = tourist.find(\"Region\").text\n",
    "    town = tourist.find(\"Town\").text\n",
    "    address = tourist.find(\"Add\").text.replace(region, \"\").replace(town, \"\")\n",
    "    \n",
    "    # 將提取出的資料，建立成字典形式，並添加進儲存陣列中\n",
    "    tourist_row.append({\n",
    "        \"name\": name,\n",
    "        \"description\": description,\n",
    "        \"tel\": tel,\n",
    "        \"region\": region,\n",
    "        \"town\": town,\n",
    "        \"address\": address\n",
    "    })"
   ]
  },
  {
   "cell_type": "code",
   "execution_count": 10,
   "metadata": {
    "pycharm": {
     "name": "#%%\n"
    }
   },
   "outputs": [
    {
     "data": {
      "text/plain": "              name                                        description  \\\n0      宏亞食品巧克力觀光工廠  宏亞食品巧克力觀光工廠是一座以巧克力為主題的觀光工廠，建築設計、展場文字、陳列物、戶外景觀及...   \n1          台灣金屬創意館  台灣金屬創意館為第一座金屬造型觀光工廠，來這裡可讓大家看到並觸摸到金屬柔軟的一面，館區內充滿...   \n2  臺灣菸酒(股)公司林口觀光酒廠  林口酒廠為擁有近百年歷史的台北酒廠(1921)、板橋酒廠(1937)、樹林酒廠(1906)合...   \n3          水璉、牛山海岸  水璉位在花蓮縣壽豐鄉海濱，蒼翠的山丘環抱著寬廣的河谷盆地，水璉溪蜿蜒而過，沿著公路邊的小徑往...   \n4              石梯坪  石梯坪擁有經風力和海水雕刻而成的特殊岩岸風景，潮間帶上豐富的自然生態資源：螃蟹、海星、海參、...   \n5              長虹橋  長虹橋優雅的拱形橋身橫跨在秀姑巒溪出海口處兩岸，在山海交際之處形成一道美麗的虹影，成為東海岸...   \n6             北回歸線  台灣一共有三個北回歸線標，分別在嘉義水上鄉、花蓮舞鶴台地、豐濱鄉，而這座北回歸線標碑位於台1...   \n7               金樽  金樽可俯瞰海岸全景，包含金樽漁港、白沙灣海灘以及附近的山澗峽谷，讓秀麗的景色完全盡收眼底，而...   \n8              加路蘭  加路蘭擁有一大片寬廣的草坪、休憩涼亭、解說站以及觀景台，不但提供了東海岸旅行的最佳休息站，這...   \n9     富岡地質公園 (小野柳)  富岡地質公園 (小野柳) 位於富岡漁港北方的海域，是東部海岸最南端的風景據點，因地形和岩石在...   \n\n                 tel region town         address  \n0      886-3-3656555    桃園市  八德區   桃園縣八德市建國路386號  \n1  886-6-2036735#245    臺南市  永康區     台南市永科環路598號  \n2  886-3-3283001#430    桃園市  龜山區   桃園縣龜山鄉文化一路55號  \n3      886-3-8601400    花蓮縣  壽豐鄉      974牛山39之5號  \n4      886-3-8781452    花蓮縣  豐濱鄉       977石梯坪52號  \n5      886-3-8671326    花蓮縣  豐濱鄉    977台11線68公里處  \n6      886-3-8671326    花蓮縣  豐濱鄉  977台11線70.5公里處  \n7      886-8-9841520    臺東縣  東河鄉       959七里橋11號  \n8      886-8-9281530    臺東縣  臺東市   950台11線157公里處  \n9      886-8-9281530    臺東縣  臺東市    950松江路一段500號  ",
      "text/html": "<div>\n<style scoped>\n    .dataframe tbody tr th:only-of-type {\n        vertical-align: middle;\n    }\n\n    .dataframe tbody tr th {\n        vertical-align: top;\n    }\n\n    .dataframe thead th {\n        text-align: right;\n    }\n</style>\n<table border=\"1\" class=\"dataframe\">\n  <thead>\n    <tr style=\"text-align: right;\">\n      <th></th>\n      <th>name</th>\n      <th>description</th>\n      <th>tel</th>\n      <th>region</th>\n      <th>town</th>\n      <th>address</th>\n    </tr>\n  </thead>\n  <tbody>\n    <tr>\n      <th>0</th>\n      <td>宏亞食品巧克力觀光工廠</td>\n      <td>宏亞食品巧克力觀光工廠是一座以巧克力為主題的觀光工廠，建築設計、展場文字、陳列物、戶外景觀及...</td>\n      <td>886-3-3656555</td>\n      <td>桃園市</td>\n      <td>八德區</td>\n      <td>桃園縣八德市建國路386號</td>\n    </tr>\n    <tr>\n      <th>1</th>\n      <td>台灣金屬創意館</td>\n      <td>台灣金屬創意館為第一座金屬造型觀光工廠，來這裡可讓大家看到並觸摸到金屬柔軟的一面，館區內充滿...</td>\n      <td>886-6-2036735#245</td>\n      <td>臺南市</td>\n      <td>永康區</td>\n      <td>台南市永科環路598號</td>\n    </tr>\n    <tr>\n      <th>2</th>\n      <td>臺灣菸酒(股)公司林口觀光酒廠</td>\n      <td>林口酒廠為擁有近百年歷史的台北酒廠(1921)、板橋酒廠(1937)、樹林酒廠(1906)合...</td>\n      <td>886-3-3283001#430</td>\n      <td>桃園市</td>\n      <td>龜山區</td>\n      <td>桃園縣龜山鄉文化一路55號</td>\n    </tr>\n    <tr>\n      <th>3</th>\n      <td>水璉、牛山海岸</td>\n      <td>水璉位在花蓮縣壽豐鄉海濱，蒼翠的山丘環抱著寬廣的河谷盆地，水璉溪蜿蜒而過，沿著公路邊的小徑往...</td>\n      <td>886-3-8601400</td>\n      <td>花蓮縣</td>\n      <td>壽豐鄉</td>\n      <td>974牛山39之5號</td>\n    </tr>\n    <tr>\n      <th>4</th>\n      <td>石梯坪</td>\n      <td>石梯坪擁有經風力和海水雕刻而成的特殊岩岸風景，潮間帶上豐富的自然生態資源：螃蟹、海星、海參、...</td>\n      <td>886-3-8781452</td>\n      <td>花蓮縣</td>\n      <td>豐濱鄉</td>\n      <td>977石梯坪52號</td>\n    </tr>\n    <tr>\n      <th>5</th>\n      <td>長虹橋</td>\n      <td>長虹橋優雅的拱形橋身橫跨在秀姑巒溪出海口處兩岸，在山海交際之處形成一道美麗的虹影，成為東海岸...</td>\n      <td>886-3-8671326</td>\n      <td>花蓮縣</td>\n      <td>豐濱鄉</td>\n      <td>977台11線68公里處</td>\n    </tr>\n    <tr>\n      <th>6</th>\n      <td>北回歸線</td>\n      <td>台灣一共有三個北回歸線標，分別在嘉義水上鄉、花蓮舞鶴台地、豐濱鄉，而這座北回歸線標碑位於台1...</td>\n      <td>886-3-8671326</td>\n      <td>花蓮縣</td>\n      <td>豐濱鄉</td>\n      <td>977台11線70.5公里處</td>\n    </tr>\n    <tr>\n      <th>7</th>\n      <td>金樽</td>\n      <td>金樽可俯瞰海岸全景，包含金樽漁港、白沙灣海灘以及附近的山澗峽谷，讓秀麗的景色完全盡收眼底，而...</td>\n      <td>886-8-9841520</td>\n      <td>臺東縣</td>\n      <td>東河鄉</td>\n      <td>959七里橋11號</td>\n    </tr>\n    <tr>\n      <th>8</th>\n      <td>加路蘭</td>\n      <td>加路蘭擁有一大片寬廣的草坪、休憩涼亭、解說站以及觀景台，不但提供了東海岸旅行的最佳休息站，這...</td>\n      <td>886-8-9281530</td>\n      <td>臺東縣</td>\n      <td>臺東市</td>\n      <td>950台11線157公里處</td>\n    </tr>\n    <tr>\n      <th>9</th>\n      <td>富岡地質公園 (小野柳)</td>\n      <td>富岡地質公園 (小野柳) 位於富岡漁港北方的海域，是東部海岸最南端的風景據點，因地形和岩石在...</td>\n      <td>886-8-9281530</td>\n      <td>臺東縣</td>\n      <td>臺東市</td>\n      <td>950松江路一段500號</td>\n    </tr>\n  </tbody>\n</table>\n</div>"
     },
     "execution_count": 10,
     "metadata": {},
     "output_type": "execute_result"
    }
   ],
   "source": [
    "# 建立 Pandas 資料表\n",
    "pd_table = pd.DataFrame(tourist_row, columns=DATA_FRAME_COLUMNS)\n",
    "\n",
    "# 顯示前 10 筆內容\n",
    "pd_table.head(n=10)"
   ]
  }
 ],
 "metadata": {
  "kernelspec": {
   "display_name": "Python 3 (ipykernel)",
   "language": "python",
   "name": "python3"
  },
  "language_info": {
   "codemirror_mode": {
    "name": "ipython",
    "version": 3
   },
   "file_extension": ".py",
   "mimetype": "text/x-python",
   "name": "python",
   "nbconvert_exporter": "python",
   "pygments_lexer": "ipython3",
   "version": "3.10.6"
  }
 },
 "nbformat": 4,
 "nbformat_minor": 1
}